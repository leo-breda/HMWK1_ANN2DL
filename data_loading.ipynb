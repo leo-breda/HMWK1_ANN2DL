{
  "nbformat": 4,
  "nbformat_minor": 0,
  "metadata": {
    "colab": {
      "provenance": [],
      "authorship_tag": "ABX9TyNpnfpHdLlCmqDNcE+RBn0B",
      "include_colab_link": true
    },
    "kernelspec": {
      "name": "python3",
      "display_name": "Python 3"
    },
    "language_info": {
      "name": "python"
    }
  },
  "cells": [
    {
      "cell_type": "markdown",
      "metadata": {
        "id": "view-in-github",
        "colab_type": "text"
      },
      "source": [
        "<a href=\"https://colab.research.google.com/github/leo-breda/HMWK1_ANN2DL/blob/main/data_loading.ipynb\" target=\"_parent\"><img src=\"https://colab.research.google.com/assets/colab-badge.svg\" alt=\"Open In Colab\"/></a>"
      ]
    },
    {
      "cell_type": "code",
      "execution_count": null,
      "metadata": {
        "colab": {
          "base_uri": "https://localhost:8080/"
        },
        "id": "DtPN1GPqhk2h",
        "outputId": "2767c69d-207c-4e81-9ef0-4bb473878613"
      },
      "outputs": [
        {
          "name": "stdout",
          "output_type": "stream",
          "text": [
            "Mounted at /gdrive\n"
          ]
        }
      ],
      "source": [
        "from google.colab import drive\n",
        "drive.mount('/gdrive')"
      ]
    },
    {
      "cell_type": "code",
      "execution_count": null,
      "metadata": {
        "colab": {
          "base_uri": "https://localhost:8080/"
        },
        "id": "9LuTPiZoiDMo",
        "outputId": "0541dc05-bf8b-4ae5-d008-86ad7217fa58"
      },
      "outputs": [
        {
          "name": "stdout",
          "output_type": "stream",
          "text": [
            "/gdrive/My Drive/HMK1\n"
          ]
        }
      ],
      "source": [
        "%cd /gdrive/My Drive/HMK1"
      ]
    },
    {
      "cell_type": "code",
      "execution_count": null,
      "metadata": {
        "colab": {
          "base_uri": "https://localhost:8080/"
        },
        "id": "8uc4_ZKZiD4X",
        "outputId": "70eb0c8b-dc54-414d-a70f-3d09fe21e68f"
      },
      "outputs": [
        {
          "name": "stdout",
          "output_type": "stream",
          "text": [
            "2.10.1\n"
          ]
        }
      ],
      "source": [
        "from google.colab import drive\n",
        "import tensorflow as tf\n",
        "import numpy as np\n",
        "import os\n",
        "import random\n",
        "\n",
        "from sklearn.model_selection import train_test_split\n",
        "from sklearn.metrics import accuracy_score, f1_score, precision_score, recall_score\n",
        "from sklearn.metrics import confusion_matrix\n",
        "\n",
        "from keras import backend as K\n",
        "from PIL import Image\n",
        "\n",
        "tfk = tf.keras\n",
        "tfkl = tf.keras.layers\n",
        "print(tf.__version__)\n"
      ]
    },
    {
      "cell_type": "code",
      "execution_count": null,
      "metadata": {
        "id": "3crb6cDlYrA-"
      },
      "outputs": [],
      "source": [
        "# Random seed\n",
        "seed = 42\n",
        "random.seed(seed)\n",
        "os.environ['PYTHONHASHSEED'] = str(seed)\n",
        "np.random.seed(seed)\n",
        "tf.random.set_seed(seed)\n",
        "tf.compat.v1.set_random_seed(seed)"
      ]
    },
    {
      "cell_type": "markdown",
      "source": [
        "# Data merging\n",
        "## one-time use only!"
      ],
      "metadata": {
        "id": "U-imelj3bycH"
      }
    },
    {
      "cell_type": "code",
      "source": [
        "dataset_dir = 'data/original_data'\n",
        "# Plot example images from dataset\n",
        "labels = ['Species1',       # 0\n",
        "          'Species2',       # 1\n",
        "          'Species3',       # 2\n",
        "          'Species4',       # 3\n",
        "          'Species5',       # 4\n",
        "          'Species6',       # 5\n",
        "          'Species7',       # 6\n",
        "          'Species8'        # 7\n",
        "]\n",
        "\n",
        "\n",
        "def folderToPaths(full_img_dir):\n",
        "\n",
        "    x_paths_list = []\n",
        "\n",
        "    full_img_dir = full_img_dir\n",
        "\n",
        "    for full in os.listdir(full_img_dir):\n",
        "         x_paths_list.append(os.path.join(full_img_dir, full))\n",
        "    \n",
        "    x_paths_list.sort()\n",
        "    return x_paths_list\n"
      ],
      "metadata": {
        "id": "SkgvMdfahPLQ"
      },
      "execution_count": null,
      "outputs": []
    },
    {
      "cell_type": "code",
      "source": [
        "# mergin all the images, one time use only!\n",
        "for idx, class_label in enumerate(labels) :\n",
        "  paths = folderToPaths(full_img_dir = '{}/{}/'.format(dataset_dir, class_label))\n",
        "  \n",
        "  for path in paths:\n",
        "    s = str(idx) + \"_\" + path[-9:]\n",
        "    new_path = os.path.join(merged_dataset_dir, s)\n",
        "    shutil.copy(path, new_path)"
      ],
      "metadata": {
        "id": "kQnD-YozhF1U"
      },
      "execution_count": null,
      "outputs": []
    },
    {
      "cell_type": "markdown",
      "source": [
        "# Data splitting"
      ],
      "metadata": {
        "id": "MqNsEUCchhSj"
      }
    },
    {
      "cell_type": "code",
      "source": [
        "merged_dataset_dir = \"data/merged_data\"\n",
        "paths_merged = folderToPaths(merged_dataset_dir)\n",
        "labels_of_paths = [p[-11] for p in paths_merged] # get all labels from the image path\n",
        "\n",
        "validation_percentage = 0.15\n",
        "test_percentage = 0.2\n",
        "\n",
        "X_train_val, X_test = train_test_split(paths_merged, test_size = test_percentage, shuffle = True, stratify = labels_of_paths)\n",
        "\n",
        "labels_of_paths_train_val = [p[-11] for p in X_train_val]\n",
        "\n",
        "X_train, X_val = train_test_split(X_train_val, test_size = validation_percentage, shuffle = True, stratify = labels_of_paths_train_val)\n",
        "\n",
        "labels_train = [p[-11] for p in X_train]\n",
        "labels_test = [p[-11] for p in X_test]\n",
        "labels_val =  [p[-11] for p in X_val]"
      ],
      "metadata": {
        "id": "gJoEiGvNa6nL"
      },
      "execution_count": null,
      "outputs": []
    },
    {
      "cell_type": "markdown",
      "source": [
        "# Moving the file into the folders"
      ],
      "metadata": {
        "id": "1dOEjdtUcIpw"
      }
    },
    {
      "cell_type": "code",
      "source": [
        "import shutil\n",
        "from tqdm import tqdm\n",
        "import glob\n",
        "\n",
        "\n",
        "for root, subdirectories, fi in os.walk(\"data/leo/test/\"):\n",
        "    for sub in subdirectories:\n",
        "        files = os.listdir(root+sub)\n",
        "        for f in files:\n",
        "            os.remove(root+sub+\"/\"+f)\n",
        "for root, subdirectories, fi in os.walk(\"data/leo/train/\"):\n",
        "    for sub in subdirectories:\n",
        "        files = os.listdir(root+sub)\n",
        "        for f in files:\n",
        "            os.remove(root+sub+\"/\"+f)\n",
        "for root, subdirectories, fi in os.walk(\"data/leo/val/\"):\n",
        "    for sub in subdirectories:\n",
        "        files = os.listdir(root+sub)\n",
        "        for f in files:\n",
        "            os.remove(root+sub+\"/\"+f)\n",
        "\n",
        "for img in tqdm(zip(labels_train,X_train),total=len(labels_train)):\n",
        "  shutil.copy(img[1],\"data/leo/train/\"+str(int(img[0])+1))\n",
        "\n",
        "for img in tqdm(zip(labels_test,X_test),total=len(labels_test)):\n",
        "  shutil.copy(img[1],\"data/leo/test/\"+str(int(img[0])+1))\n",
        "\n",
        "for img in tqdm(zip(labels_val,X_val),total=len(labels_val)):\n",
        "  shutil.copy(img[1],\"data/leo/val/\"+str(int(img[0])+1))\n"
      ],
      "metadata": {
        "id": "ZkIs6i_wbhS9"
      },
      "execution_count": null,
      "outputs": []
    },
    {
      "cell_type": "markdown",
      "source": [
        "# Keras data loader"
      ],
      "metadata": {
        "id": "6mPh1IeEcOGt"
      }
    },
    {
      "cell_type": "code",
      "execution_count": null,
      "metadata": {
        "colab": {
          "base_uri": "https://localhost:8080/"
        },
        "id": "X_B_aFBPf_B3",
        "outputId": "59bcb143-8dc1-4282-dee2-ec0a6339b4a5"
      },
      "outputs": [
        {
          "name": "stdout",
          "output_type": "stream",
          "text": [
            "Found 2265 files belonging to 8 classes.\n",
            "Found 567 files belonging to 8 classes.\n",
            "Found 709 files belonging to 8 classes.\n"
          ]
        }
      ],
      "source": [
        "training_dir = \"data/leo/train\"\n",
        "validation_dir = \"data/leo/val\"\n",
        "test_dir = \"data/leo/test\"\n",
        "\n",
        "train_data = tf.keras.utils.image_dataset_from_directory(\n",
        "    training_dir,\n",
        "    labels='inferred',\n",
        "    label_mode='categorical',\n",
        "    color_mode='rgb',\n",
        "    batch_size=32,\n",
        "    image_size=(96, 96),\n",
        "    shuffle=True,\n",
        "    seed=seed)\n",
        "\n",
        "val_data = tf.keras.utils.image_dataset_from_directory(\n",
        "    validation_dir,\n",
        "    labels='inferred',\n",
        "    label_mode='categorical',\n",
        "    color_mode='rgb',\n",
        "    batch_size=32,\n",
        "    image_size=(96, 96),\n",
        "    shuffle=True,\n",
        "    seed=seed)\n",
        "\n",
        "test_data = tf.keras.utils.image_dataset_from_directory(\n",
        "    test_dir,\n",
        "    labels='inferred',\n",
        "    label_mode='categorical',\n",
        "    color_mode='rgb',\n",
        "    batch_size=32,\n",
        "    image_size=(96, 96),\n",
        "    shuffle=True,\n",
        "    seed=seed)\n"
      ]
    },
    {
      "cell_type": "markdown",
      "source": [
        "# mock model with Preprocessing and Augmentation"
      ],
      "metadata": {
        "id": "IX2CnL3RfWT_"
      }
    },
    {
      "cell_type": "code",
      "execution_count": null,
      "metadata": {
        "id": "i-Mkoyd5_WU5"
      },
      "outputs": [],
      "source": [
        "import keras_cv #for CutOut agumentation\n",
        "\n",
        "inputs = tfk.Input((96,96,3))\n",
        "\n",
        "# RESIZING\n",
        "x = tfkl.Resizing(224,224,interpolation = \"bicubic\")(inputs)\n",
        "\n",
        "# AUGMENTATION\n",
        "x =  keras_cv.layers.RandomCutout(0.35, 0.35)(x)\n",
        "\n",
        "x = tf.keras.layers.RandomBrightness(\n",
        "    0.25, value_range=(0, 255), seed=seed\n",
        ")(x)\n",
        "\n",
        "x= tf.keras.layers.RandomFlip(\n",
        "    mode=\"horizontal_and_vertical\", seed=seed\n",
        ")(x)\n",
        "\n",
        "x = tf.keras.layers.RandomTranslation(\n",
        "    (-0.25, 0.25) ,\n",
        "    (-0.25, 0.25) ,\n",
        "    fill_mode=\"reflect\",\n",
        "    interpolation=\"bilinear\",\n",
        "    seed=seed\n",
        ")(x)\n",
        "\n",
        "x = tf.keras.layers.RandomRotation(\n",
        "    (-0.25, 0.25),\n",
        "    fill_mode=\"reflect\",\n",
        "    interpolation=\"bilinear\",\n",
        "    seed=seed\n",
        ")(x)\n",
        "\n",
        "x = tf.keras.layers.RandomContrast(0.2, seed=seed)(x)\n",
        "\n",
        "\n",
        "# ...\n"
      ]
    }
  ]
}